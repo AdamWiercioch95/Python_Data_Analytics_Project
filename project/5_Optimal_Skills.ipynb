{
 "cells": [
  {
   "metadata": {},
   "cell_type": "markdown",
   "source": [
    "# What is the most optimal skill to learn for Data Analysts\n",
    "### Methodology\n",
    "1. Group skills to determine median salary and likelihood of being in posting\n",
    "2. Visualize median salary vs percent skill demand\n",
    "3. (Optional) Determine if certain technologies are more prevalent"
   ],
   "id": "f027c5363f0386ad"
  },
  {
   "metadata": {},
   "cell_type": "markdown",
   "source": "## Importing Libraries and Loading Data",
   "id": "c1bed9b78ee3ab22"
  },
  {
   "cell_type": "code",
   "id": "initial_id",
   "metadata": {
    "collapsed": true,
    "ExecuteTime": {
     "end_time": "2024-09-13T09:01:08.766140Z",
     "start_time": "2024-09-13T09:00:55.490215Z"
    }
   },
   "source": [
    "#Importing Libraries\n",
    "import ast\n",
    "import seaborn as sns\n",
    "import pandas as pd\n",
    "from datasets import load_dataset\n",
    "import matplotlib.pyplot as plt\n",
    "from matplotlib.ticker import PercentFormatter\n",
    "\n",
    "# Loading Data\n",
    "dataset = load_dataset('lukebarousse/data_jobs')\n",
    "df = dataset['train'].to_pandas()\n",
    "\n",
    "# Data Cleanup\n",
    "df['job_posted_date'] = pd.to_datetime(df['job_posted_date'])  # converting job_posted_date to datetime object\n",
    "df['job_skills'] = df['job_skills'].apply(lambda data: ast.literal_eval(data) if pd.notna(data) else data)  # converting job_skills to list"
   ],
   "outputs": [],
   "execution_count": 2
  },
  {
   "metadata": {},
   "cell_type": "markdown",
   "source": "## Clean Data",
   "id": "ddf3eb39ec0bcf63"
  },
  {
   "metadata": {
    "ExecuteTime": {
     "end_time": "2024-09-13T09:06:25.233024Z",
     "start_time": "2024-09-13T09:06:25.108662Z"
    }
   },
   "cell_type": "code",
   "source": "df_DA_US = df[(df['job_title_short'] == 'Data Analyst') & (df['job_country'] == 'United States')].copy()  # filter for Data Analysts jobs in US ",
   "id": "2527442f525b1773",
   "outputs": [],
   "execution_count": 13
  },
  {
   "metadata": {
    "ExecuteTime": {
     "end_time": "2024-09-13T09:06:26.364539Z",
     "start_time": "2024-09-13T09:06:26.331839Z"
    }
   },
   "cell_type": "code",
   "source": [
    "# Drop NaN values from the 'salary_year_avg' column for accurate visualization\n",
    "df_DA_US = df_DA_US.dropna(subset=['salary_year_avg'])\n",
    "\n",
    "# explode job_skills column to create new row for each skill associated with job\n",
    "df_DA_US_exploded = df_DA_US.explode('job_skills')\n",
    "\n",
    "df_DA_US_exploded[['salary_year_avg', 'job_skills']].head(5)"
   ],
   "id": "56d1d9bb23650341",
   "outputs": [
    {
     "data": {
      "text/plain": [
       "     salary_year_avg job_skills\n",
       "109          89000.0     python\n",
       "109          89000.0          r\n",
       "109          89000.0    alteryx\n",
       "109          89000.0    tableau\n",
       "180          90250.0      excel"
      ],
      "text/html": [
       "<div>\n",
       "<style scoped>\n",
       "    .dataframe tbody tr th:only-of-type {\n",
       "        vertical-align: middle;\n",
       "    }\n",
       "\n",
       "    .dataframe tbody tr th {\n",
       "        vertical-align: top;\n",
       "    }\n",
       "\n",
       "    .dataframe thead th {\n",
       "        text-align: right;\n",
       "    }\n",
       "</style>\n",
       "<table border=\"1\" class=\"dataframe\">\n",
       "  <thead>\n",
       "    <tr style=\"text-align: right;\">\n",
       "      <th></th>\n",
       "      <th>salary_year_avg</th>\n",
       "      <th>job_skills</th>\n",
       "    </tr>\n",
       "  </thead>\n",
       "  <tbody>\n",
       "    <tr>\n",
       "      <th>109</th>\n",
       "      <td>89000.0</td>\n",
       "      <td>python</td>\n",
       "    </tr>\n",
       "    <tr>\n",
       "      <th>109</th>\n",
       "      <td>89000.0</td>\n",
       "      <td>r</td>\n",
       "    </tr>\n",
       "    <tr>\n",
       "      <th>109</th>\n",
       "      <td>89000.0</td>\n",
       "      <td>alteryx</td>\n",
       "    </tr>\n",
       "    <tr>\n",
       "      <th>109</th>\n",
       "      <td>89000.0</td>\n",
       "      <td>tableau</td>\n",
       "    </tr>\n",
       "    <tr>\n",
       "      <th>180</th>\n",
       "      <td>90250.0</td>\n",
       "      <td>excel</td>\n",
       "    </tr>\n",
       "  </tbody>\n",
       "</table>\n",
       "</div>"
      ]
     },
     "execution_count": 14,
     "metadata": {},
     "output_type": "execute_result"
    }
   ],
   "execution_count": 14
  },
  {
   "metadata": {},
   "cell_type": "markdown",
   "source": "## Calculate the Percentage of Job Postings with Skills",
   "id": "4b8915100c560225"
  },
  {
   "metadata": {
    "ExecuteTime": {
     "end_time": "2024-09-13T09:14:14.629357Z",
     "start_time": "2024-09-13T09:14:14.617009Z"
    }
   },
   "cell_type": "code",
   "source": [
    "# group data by job_skills and calculate count and median salary for each skill, sort the results by count\n",
    "df_DA_skills = df_DA_US_exploded.groupby('job_skills')['salary_year_avg'].agg(['count', 'median']).sort_values(by='count', ascending=False)\n",
    "\n",
    "# rename columns names for clarity\n",
    "df_DA_skills = df_DA_skills.rename(columns={'count': 'skill_count', 'median': 'median_salary'})\n",
    "\n",
    "# find count of Data Analyst jobs for US with salary info\n",
    "DA_job_count = len(df_DA_US)\n",
    "\n",
    "# create new column with skill percentage\n",
    "df_DA_skills['skill_percentage'] = df_DA_skills['skill_count'] / DA_job_count * 100\n",
    "\n",
    "skill_percentage = 5\n",
    "\n",
    "# limit the results to data with skill percentage over 5\n",
    "df_DA_skills_high_demand = df_DA_skills[df_DA_skills['skill_percentage'] > skill_percentage]\n",
    "\n",
    "df_DA_skills_high_demand"
   ],
   "id": "77fa1bd619f8587a",
   "outputs": [
    {
     "data": {
      "text/plain": [
       "            skill_count  median_salary  skill_percentage\n",
       "job_skills                                              \n",
       "sql                2508       91000.00         57.655172\n",
       "excel              1808       84392.00         41.563218\n",
       "python             1431       97500.00         32.896552\n",
       "tableau            1364       92875.00         31.356322\n",
       "sas                 926       90000.00         21.287356\n",
       "r                   893       92500.00         20.528736\n",
       "power bi            838       90000.00         19.264368\n",
       "powerpoint          462       85000.00         10.620690\n",
       "word                461       81194.75         10.597701\n",
       "sql server          286       92500.00          6.574713\n",
       "oracle              274       96923.75          6.298851\n",
       "go                  224       90000.00          5.149425"
      ],
      "text/html": [
       "<div>\n",
       "<style scoped>\n",
       "    .dataframe tbody tr th:only-of-type {\n",
       "        vertical-align: middle;\n",
       "    }\n",
       "\n",
       "    .dataframe tbody tr th {\n",
       "        vertical-align: top;\n",
       "    }\n",
       "\n",
       "    .dataframe thead th {\n",
       "        text-align: right;\n",
       "    }\n",
       "</style>\n",
       "<table border=\"1\" class=\"dataframe\">\n",
       "  <thead>\n",
       "    <tr style=\"text-align: right;\">\n",
       "      <th></th>\n",
       "      <th>skill_count</th>\n",
       "      <th>median_salary</th>\n",
       "      <th>skill_percentage</th>\n",
       "    </tr>\n",
       "    <tr>\n",
       "      <th>job_skills</th>\n",
       "      <th></th>\n",
       "      <th></th>\n",
       "      <th></th>\n",
       "    </tr>\n",
       "  </thead>\n",
       "  <tbody>\n",
       "    <tr>\n",
       "      <th>sql</th>\n",
       "      <td>2508</td>\n",
       "      <td>91000.00</td>\n",
       "      <td>57.655172</td>\n",
       "    </tr>\n",
       "    <tr>\n",
       "      <th>excel</th>\n",
       "      <td>1808</td>\n",
       "      <td>84392.00</td>\n",
       "      <td>41.563218</td>\n",
       "    </tr>\n",
       "    <tr>\n",
       "      <th>python</th>\n",
       "      <td>1431</td>\n",
       "      <td>97500.00</td>\n",
       "      <td>32.896552</td>\n",
       "    </tr>\n",
       "    <tr>\n",
       "      <th>tableau</th>\n",
       "      <td>1364</td>\n",
       "      <td>92875.00</td>\n",
       "      <td>31.356322</td>\n",
       "    </tr>\n",
       "    <tr>\n",
       "      <th>sas</th>\n",
       "      <td>926</td>\n",
       "      <td>90000.00</td>\n",
       "      <td>21.287356</td>\n",
       "    </tr>\n",
       "    <tr>\n",
       "      <th>r</th>\n",
       "      <td>893</td>\n",
       "      <td>92500.00</td>\n",
       "      <td>20.528736</td>\n",
       "    </tr>\n",
       "    <tr>\n",
       "      <th>power bi</th>\n",
       "      <td>838</td>\n",
       "      <td>90000.00</td>\n",
       "      <td>19.264368</td>\n",
       "    </tr>\n",
       "    <tr>\n",
       "      <th>powerpoint</th>\n",
       "      <td>462</td>\n",
       "      <td>85000.00</td>\n",
       "      <td>10.620690</td>\n",
       "    </tr>\n",
       "    <tr>\n",
       "      <th>word</th>\n",
       "      <td>461</td>\n",
       "      <td>81194.75</td>\n",
       "      <td>10.597701</td>\n",
       "    </tr>\n",
       "    <tr>\n",
       "      <th>sql server</th>\n",
       "      <td>286</td>\n",
       "      <td>92500.00</td>\n",
       "      <td>6.574713</td>\n",
       "    </tr>\n",
       "    <tr>\n",
       "      <th>oracle</th>\n",
       "      <td>274</td>\n",
       "      <td>96923.75</td>\n",
       "      <td>6.298851</td>\n",
       "    </tr>\n",
       "    <tr>\n",
       "      <th>go</th>\n",
       "      <td>224</td>\n",
       "      <td>90000.00</td>\n",
       "      <td>5.149425</td>\n",
       "    </tr>\n",
       "  </tbody>\n",
       "</table>\n",
       "</div>"
      ]
     },
     "execution_count": 20,
     "metadata": {},
     "output_type": "execute_result"
    }
   ],
   "execution_count": 20
  },
  {
   "metadata": {},
   "cell_type": "markdown",
   "source": "## Median Salary vs Percent Skill Demand",
   "id": "a3c8dd02fb8168f"
  },
  {
   "metadata": {
    "ExecuteTime": {
     "end_time": "2024-09-13T10:21:19.034088Z",
     "start_time": "2024-09-13T10:21:18.799905Z"
    }
   },
   "cell_type": "code",
   "source": [
    "from adjustText import adjust_text\n",
    "from matplotlib.ticker import PercentFormatter\n",
    "\n",
    "# create scatter plot\n",
    "df_DA_skills_high_demand.plot(kind='scatter', x='skill_percentage', y='median_salary')\n",
    "\n",
    "# add labels to points and collect them in the list\n",
    "texts = []\n",
    "for i, txt in enumerate(df_DA_skills_high_demand.index):\n",
    "    texts.append(plt.text(df_DA_skills_high_demand['skill_percentage'].iloc[i], df_DA_skills_high_demand['median_salary'].iloc[i], txt))\n",
    "\n",
    "# adjust text to avoid overlap and add arrows\n",
    "adjust_text(texts, arrowprops=dict(arrowstyle='->', color='grey', lw=1))\n",
    "\n",
    "# format current axes\n",
    "ax = plt.gca()\n",
    "ax.yaxis.set_major_formatter(plt.FuncFormatter(lambda y, pos: f'${int(y / 1000)}K'))\n",
    "ax.xaxis.set_major_formatter(PercentFormatter(decimals=0))\n",
    "\n",
    "plt.xlabel('Percentage of Data Analysts Jobs')\n",
    "plt.ylabel('Median Yearly Salary ($USD)')\n",
    "plt.title(f'Most Optimal Skills for Data Analysts in the US')\n",
    "plt.tight_layout()\n",
    "plt.show()"
   ],
   "id": "dfe044488a7b0fad",
   "outputs": [
    {
     "data": {
      "text/plain": [
       "<Figure size 640x480 with 1 Axes>"
      ],
      "image/png": "[encoded data removed]"
     },
     "metadata": {},
     "output_type": "display_data"
    }
   ],
   "execution_count": 40
  },
  {
   "metadata": {},
   "cell_type": "markdown",
   "source": "## Color by Technology",
   "id": "680c6bd851a4caaa"
  },
  {
   "metadata": {
    "ExecuteTime": {
     "end_time": "2024-09-13T09:37:23.557266Z",
     "start_time": "2024-09-13T09:37:18.369825Z"
    }
   },
   "cell_type": "code",
   "source": [
    "df_technology = df['job_type_skills'].copy()\n",
    "\n",
    "# remove duplicates\n",
    "df_technology = df_technology.drop_duplicates()\n",
    "\n",
    "# remove NaN values\n",
    "df_technology = df_technology.dropna()\n",
    "\n",
    "# combine all dictionaries into one\n",
    "technology_dict = {}\n",
    "for row in df_technology:\n",
    "    row_dict = ast.literal_eval(row)  # convert string to dictionary\n",
    "    for key, value in row_dict.items():\n",
    "        if key in technology_dict:  # if key already exists in technology_dict, add value to existing value\n",
    "            technology_dict[key] += value\n",
    "        else:                       # if key does not exist in technology_dict, add key and value\n",
    "            technology_dict[key] = value\n",
    "\n",
    "# remove duplicates by converting values to set then back to list\n",
    "for key, value in technology_dict.items():\n",
    "    technology_dict[key] = list(set(value))"
   ],
   "id": "1a81b7d01d865a4",
   "outputs": [],
   "execution_count": 31
  },
  {
   "metadata": {
    "ExecuteTime": {
     "end_time": "2024-09-13T09:37:38.121667Z",
     "start_time": "2024-09-13T09:37:38.101936Z"
    }
   },
   "cell_type": "code",
   "source": [
    "# turn dictionary into dataframe\n",
    "df_technology = pd.DataFrame(list(technology_dict.items()), columns=['technology', 'skills'])\n",
    "\n",
    "# explode skills column and create multiple rows for each technology\n",
    "df_technology = df_technology.explode('skills')\n",
    "\n",
    "df_technology"
   ],
   "id": "81f914936a4bb9d9",
   "outputs": [
    {
     "data": {
      "text/plain": [
       "       technology         skills\n",
       "0   analyst_tools  microstrategy\n",
       "0   analyst_tools         looker\n",
       "0   analyst_tools      ms access\n",
       "0   analyst_tools        powerbi\n",
       "0   analyst_tools     powerpoint\n",
       "..            ...            ...\n",
       "9            sync           zoom\n",
       "9            sync          webex\n",
       "9            sync          unify\n",
       "9            sync     mattermost\n",
       "9            sync         twilio\n",
       "\n",
       "[256 rows x 2 columns]"
      ],
      "text/html": [
       "<div>\n",
       "<style scoped>\n",
       "    .dataframe tbody tr th:only-of-type {\n",
       "        vertical-align: middle;\n",
       "    }\n",
       "\n",
       "    .dataframe tbody tr th {\n",
       "        vertical-align: top;\n",
       "    }\n",
       "\n",
       "    .dataframe thead th {\n",
       "        text-align: right;\n",
       "    }\n",
       "</style>\n",
       "<table border=\"1\" class=\"dataframe\">\n",
       "  <thead>\n",
       "    <tr style=\"text-align: right;\">\n",
       "      <th></th>\n",
       "      <th>technology</th>\n",
       "      <th>skills</th>\n",
       "    </tr>\n",
       "  </thead>\n",
       "  <tbody>\n",
       "    <tr>\n",
       "      <th>0</th>\n",
       "      <td>analyst_tools</td>\n",
       "      <td>microstrategy</td>\n",
       "    </tr>\n",
       "    <tr>\n",
       "      <th>0</th>\n",
       "      <td>analyst_tools</td>\n",
       "      <td>looker</td>\n",
       "    </tr>\n",
       "    <tr>\n",
       "      <th>0</th>\n",
       "      <td>analyst_tools</td>\n",
       "      <td>ms access</td>\n",
       "    </tr>\n",
       "    <tr>\n",
       "      <th>0</th>\n",
       "      <td>analyst_tools</td>\n",
       "      <td>powerbi</td>\n",
       "    </tr>\n",
       "    <tr>\n",
       "      <th>0</th>\n",
       "      <td>analyst_tools</td>\n",
       "      <td>powerpoint</td>\n",
       "    </tr>\n",
       "    <tr>\n",
       "      <th>...</th>\n",
       "      <td>...</td>\n",
       "      <td>...</td>\n",
       "    </tr>\n",
       "    <tr>\n",
       "      <th>9</th>\n",
       "      <td>sync</td>\n",
       "      <td>zoom</td>\n",
       "    </tr>\n",
       "    <tr>\n",
       "      <th>9</th>\n",
       "      <td>sync</td>\n",
       "      <td>webex</td>\n",
       "    </tr>\n",
       "    <tr>\n",
       "      <th>9</th>\n",
       "      <td>sync</td>\n",
       "      <td>unify</td>\n",
       "    </tr>\n",
       "    <tr>\n",
       "      <th>9</th>\n",
       "      <td>sync</td>\n",
       "      <td>mattermost</td>\n",
       "    </tr>\n",
       "    <tr>\n",
       "      <th>9</th>\n",
       "      <td>sync</td>\n",
       "      <td>twilio</td>\n",
       "    </tr>\n",
       "  </tbody>\n",
       "</table>\n",
       "<p>256 rows × 2 columns</p>\n",
       "</div>"
      ]
     },
     "execution_count": 32,
     "metadata": {},
     "output_type": "execute_result"
    }
   ],
   "execution_count": 32
  },
  {
   "metadata": {
    "ExecuteTime": {
     "end_time": "2024-09-13T09:37:45.713505Z",
     "start_time": "2024-09-13T09:37:45.681939Z"
    }
   },
   "cell_type": "code",
   "source": [
    "# merge df_DA_skills and df_technology\n",
    "df_DA_skills_tech = df_DA_skills.merge(df_technology, left_on='job_skills', right_on='skills')\n",
    "\n",
    "df_DA_skills_tech"
   ],
   "id": "df3b031b6c556fc6",
   "outputs": [
    {
     "data": {
      "text/plain": [
       "     skill_count  median_salary  skill_percentage     technology      skills\n",
       "0           2508        91000.0         57.655172    programming         sql\n",
       "1           1808        84392.0         41.563218  analyst_tools       excel\n",
       "2           1431        97500.0         32.896552    programming      python\n",
       "3           1364        92875.0         31.356322  analyst_tools     tableau\n",
       "4            926        90000.0         21.287356  analyst_tools         sas\n",
       "..           ...            ...               ...            ...         ...\n",
       "169            1       100000.0          0.022989      libraries      theano\n",
       "170            1        65000.0          0.022989    programming  typescript\n",
       "171            1       147500.0          0.022989          cloud      vmware\n",
       "172            1        65000.0          0.022989  webframeworks         vue\n",
       "173            1        75000.0          0.022989          async       wrike\n",
       "\n",
       "[174 rows x 5 columns]"
      ],
      "text/html": [
       "<div>\n",
       "<style scoped>\n",
       "    .dataframe tbody tr th:only-of-type {\n",
       "        vertical-align: middle;\n",
       "    }\n",
       "\n",
       "    .dataframe tbody tr th {\n",
       "        vertical-align: top;\n",
       "    }\n",
       "\n",
       "    .dataframe thead th {\n",
       "        text-align: right;\n",
       "    }\n",
       "</style>\n",
       "<table border=\"1\" class=\"dataframe\">\n",
       "  <thead>\n",
       "    <tr style=\"text-align: right;\">\n",
       "      <th></th>\n",
       "      <th>skill_count</th>\n",
       "      <th>median_salary</th>\n",
       "      <th>skill_percentage</th>\n",
       "      <th>technology</th>\n",
       "      <th>skills</th>\n",
       "    </tr>\n",
       "  </thead>\n",
       "  <tbody>\n",
       "    <tr>\n",
       "      <th>0</th>\n",
       "      <td>2508</td>\n",
       "      <td>91000.0</td>\n",
       "      <td>57.655172</td>\n",
       "      <td>programming</td>\n",
       "      <td>sql</td>\n",
       "    </tr>\n",
       "    <tr>\n",
       "      <th>1</th>\n",
       "      <td>1808</td>\n",
       "      <td>84392.0</td>\n",
       "      <td>41.563218</td>\n",
       "      <td>analyst_tools</td>\n",
       "      <td>excel</td>\n",
       "    </tr>\n",
       "    <tr>\n",
       "      <th>2</th>\n",
       "      <td>1431</td>\n",
       "      <td>97500.0</td>\n",
       "      <td>32.896552</td>\n",
       "      <td>programming</td>\n",
       "      <td>python</td>\n",
       "    </tr>\n",
       "    <tr>\n",
       "      <th>3</th>\n",
       "      <td>1364</td>\n",
       "      <td>92875.0</td>\n",
       "      <td>31.356322</td>\n",
       "      <td>analyst_tools</td>\n",
       "      <td>tableau</td>\n",
       "    </tr>\n",
       "    <tr>\n",
       "      <th>4</th>\n",
       "      <td>926</td>\n",
       "      <td>90000.0</td>\n",
       "      <td>21.287356</td>\n",
       "      <td>analyst_tools</td>\n",
       "      <td>sas</td>\n",
       "    </tr>\n",
       "    <tr>\n",
       "      <th>...</th>\n",
       "      <td>...</td>\n",
       "      <td>...</td>\n",
       "      <td>...</td>\n",
       "      <td>...</td>\n",
       "      <td>...</td>\n",
       "    </tr>\n",
       "    <tr>\n",
       "      <th>169</th>\n",
       "      <td>1</td>\n",
       "      <td>100000.0</td>\n",
       "      <td>0.022989</td>\n",
       "      <td>libraries</td>\n",
       "      <td>theano</td>\n",
       "    </tr>\n",
       "    <tr>\n",
       "      <th>170</th>\n",
       "      <td>1</td>\n",
       "      <td>65000.0</td>\n",
       "      <td>0.022989</td>\n",
       "      <td>programming</td>\n",
       "      <td>typescript</td>\n",
       "    </tr>\n",
       "    <tr>\n",
       "      <th>171</th>\n",
       "      <td>1</td>\n",
       "      <td>147500.0</td>\n",
       "      <td>0.022989</td>\n",
       "      <td>cloud</td>\n",
       "      <td>vmware</td>\n",
       "    </tr>\n",
       "    <tr>\n",
       "      <th>172</th>\n",
       "      <td>1</td>\n",
       "      <td>65000.0</td>\n",
       "      <td>0.022989</td>\n",
       "      <td>webframeworks</td>\n",
       "      <td>vue</td>\n",
       "    </tr>\n",
       "    <tr>\n",
       "      <th>173</th>\n",
       "      <td>1</td>\n",
       "      <td>75000.0</td>\n",
       "      <td>0.022989</td>\n",
       "      <td>async</td>\n",
       "      <td>wrike</td>\n",
       "    </tr>\n",
       "  </tbody>\n",
       "</table>\n",
       "<p>174 rows × 5 columns</p>\n",
       "</div>"
      ]
     },
     "execution_count": 33,
     "metadata": {},
     "output_type": "execute_result"
    }
   ],
   "execution_count": 33
  },
  {
   "metadata": {
    "ExecuteTime": {
     "end_time": "2024-09-13T09:39:06.167272Z",
     "start_time": "2024-09-13T09:39:06.164501Z"
    }
   },
   "cell_type": "code",
   "source": [
    "# filter to select rows where percentage columns is greater than 5\n",
    "df_DA_skills_tech_high_demand = df_DA_skills_tech[df_DA_skills_tech['skill_percentage'] > skill_percentage]"
   ],
   "id": "3107c2e41b9e6c75",
   "outputs": [],
   "execution_count": 36
  },
  {
   "metadata": {},
   "cell_type": "markdown",
   "source": "## Final Plot",
   "id": "67aaaf45ec39621a"
  },
  {
   "metadata": {
    "ExecuteTime": {
     "end_time": "2024-09-13T10:31:45.618540Z",
     "start_time": "2024-09-13T10:31:45.309502Z"
    }
   },
   "cell_type": "code",
   "source": [
    "# create scatter plot using seaborn\n",
    "sns.scatterplot(\n",
    "    data=df_DA_skills_tech_high_demand,\n",
    "    x='skill_percentage',\n",
    "    y='median_salary',\n",
    "    hue='technology'\n",
    ")\n",
    "\n",
    "sns.despine()\n",
    "sns.set_theme(style='ticks')\n",
    "\n",
    "# Prepare texts for adjustText\n",
    "texts = []\n",
    "for i, txt in enumerate(df_DA_skills_high_demand.index):\n",
    "    texts.append(plt.text(df_DA_skills_high_demand['skill_percentage'].iloc[i], df_DA_skills_high_demand['median_salary'].iloc[i], txt))\n",
    "\n",
    "# Adjust text to avoid overlap\n",
    "adjust_text(texts, arrowprops=dict(arrowstyle='->', color='gray'))\n",
    "\n",
    "# format axes\n",
    "ax = plt.gca()\n",
    "ax.yaxis.set_major_formatter(plt.FuncFormatter(lambda y, pos: f'${int(y/1000)}K'))\n",
    "ax.xaxis.set_major_formatter(PercentFormatter(decimals=0))\n",
    "\n",
    "plt.xlabel('Percent of Data Analyst Jobs')\n",
    "plt.ylabel('Median Yearly Salary')\n",
    "plt.title('Most Optimal Skills for Data Analysts in the US')\n",
    "plt.legend(title='Technology')\n",
    "\n",
    "plt.tight_layout()\n",
    "plt.show()"
   ],
   "id": "fd0e59efadf5963",
   "outputs": [
    {
     "data": {
      "text/plain": [
       "<Figure size 640x480 with 1 Axes>"
      ],
      "image/png": "[encoded data removed]"
     },
     "metadata": {},
     "output_type": "display_data"
    }
   ],
   "execution_count": 41
  }
 ],
 "metadata": {
  "kernelspec": {
   "display_name": "Python 3",
   "language": "python",
   "name": "python3"
  },
  "language_info": {
   "codemirror_mode": {
    "name": "ipython",
    "version": 2
   },
   "file_extension": ".py",
   "mimetype": "text/x-python",
   "name": "python",
   "nbconvert_exporter": "python",
   "pygments_lexer": "ipython2",
   "version": "2.7.6"
  }
 },
 "nbformat": 4,
 "nbformat_minor": 5
}
